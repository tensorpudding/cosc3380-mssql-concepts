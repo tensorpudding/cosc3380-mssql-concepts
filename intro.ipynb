{
    "metadata": {
        "kernelspec": {
            "name": "SQL",
            "display_name": "SQL",
            "language": "sql"
        },
        "language_info": {
            "name": "sql",
            "version": ""
        }
    },
    "nbformat_minor": 2,
    "nbformat": 4,
    "cells": [
        {
            "cell_type": "markdown",
            "source": [
                "# A brief introduction to MS SQL"
            ],
            "metadata": {
                "azdata_cell_guid": "e4fbb3c1-9c6f-451a-8dd5-d01c4fcb27bc"
            },
            "attachments": {}
        },
        {
            "cell_type": "markdown",
            "source": [
                "Here we are creating a schema on the database for a toy version of the Theme Park. We will also create a table to represent the Employee entity with a subset of the schema's actual columns."
            ],
            "metadata": {
                "azdata_cell_guid": "a9808d67-d934-4dfa-bc45-2c4dc28f7607"
            },
            "attachments": {}
        },
        {
            "cell_type": "markdown",
            "source": [
                "First I'm going to delete all schema in the current test database."
            ],
            "metadata": {
                "language": "sql",
                "azdata_cell_guid": "0ba98156-bcfd-486d-a70d-029e1d4062e0"
            },
            "attachments": {}
        },
        {
            "cell_type": "code",
            "source": [
                "DROP TABLE IF EXISTS [Theme_Park_Test].[Employee]\n",
                "GO\n",
                "DROP SCHEMA IF EXISTS [Theme_Park_Test]\n",
                "GO"
            ],
            "metadata": {
                "language": "sql",
                "azdata_cell_guid": "2c20d343-5936-4a75-9b11-3104fa85ac7d"
            },
            "outputs": [
                {
                    "output_type": "display_data",
                    "data": {
                        "text/html": "Commands completed successfully."
                    },
                    "metadata": {}
                },
                {
                    "output_type": "display_data",
                    "data": {
                        "text/html": "Commands completed successfully."
                    },
                    "metadata": {}
                },
                {
                    "output_type": "display_data",
                    "data": {
                        "text/html": "Total execution time: 00:00:00.133"
                    },
                    "metadata": {}
                }
            ],
            "execution_count": 1
        },
        {
            "cell_type": "code",
            "source": [
                "CREATE SCHEMA [Theme_Park_Test];"
            ],
            "metadata": {
                "azdata_cell_guid": "57acfb9d-4c6e-4ffb-80ac-9cf9f95fccf0",
                "language": "sql"
            },
            "outputs": [
                {
                    "output_type": "display_data",
                    "data": {
                        "text/html": "Commands completed successfully."
                    },
                    "metadata": {}
                },
                {
                    "output_type": "display_data",
                    "data": {
                        "text/html": "Total execution time: 00:00:00.050"
                    },
                    "metadata": {}
                }
            ],
            "execution_count": 2
        },
        {
            "cell_type": "code",
            "source": [
                "CREATE TABLE [Theme_Park_Test].[Employee]\n",
                "    (\n",
                "        Emp_ssn NUMERIC(9) NOT NULL,\n",
                "        CONSTRAINT PK_Emp\n",
                "            PRIMARY KEY (Emp_ssn),\n",
                "        Emp_name VARCHAR(30) NOT NULL,\n",
                "        Emp_address VARCHAR(50) NOT NULL,\n",
                "        Emp_phone NUMERIC(10) NOT NULL,\n",
                "        Emp_role VARCHAR(30),\n",
                "        Emp_salaried BIT,\n",
                "        Emp_email VARCHAR(30),\n",
                "        Emp_payrate SMALLMONEY,\n",
                "        Emp_start_date DATE NOT NULL,\n",
                "        Emp_supervisor NUMERIC(9),\n",
                "        CONSTRAINT FK_Emp_Supervisor FOREIGN KEY (Emp_supervisor)\n",
                "            REFERENCES [Theme_Park_Test].[Employee] (Emp_ssn)\n",
                "            ON DELETE NO ACTION\n",
                "    );"
            ],
            "metadata": {
                "azdata_cell_guid": "7725c9f5-7d4e-47d2-baaf-7cc9921dae35",
                "language": "sql"
            },
            "outputs": [
                {
                    "output_type": "display_data",
                    "data": {
                        "text/html": "Commands completed successfully."
                    },
                    "metadata": {}
                },
                {
                    "output_type": "display_data",
                    "data": {
                        "text/html": "Total execution time: 00:00:00.054"
                    },
                    "metadata": {}
                }
            ],
            "execution_count": 3
        },
        {
            "cell_type": "markdown",
            "source": [
                "Note that we have specified a primary key constraint on `Emp_ssn` and created `Emp_supervisor` as a foreign key to it. This code shows off some of the types that MS SQL gives us."
            ],
            "metadata": {
                "azdata_cell_guid": "bed5f4fb-c2d0-467e-9343-35c97e4e4abf"
            },
            "attachments": {}
        },
        {
            "cell_type": "markdown",
            "source": [
                "Let's try inserting values into the table and then SELECTing them:"
            ],
            "metadata": {
                "azdata_cell_guid": "e507c6d4-12fc-4e64-a4d2-29e4e7d372dd"
            },
            "attachments": {}
        },
        {
            "cell_type": "code",
            "source": [
                "INSERT INTO [Theme_Park_Test].[Employee] VALUES\n",
                "(\n",
                "    123456789,\n",
                "    'John Doe',\n",
                "    '6600 Wesleyan Street, Houston TX',\n",
                "    7138889999,\n",
                "    'Widget tester',\n",
                "    1,\n",
                "    'jdoe@acme.com',\n",
                "    35000,\n",
                "    GETDATE(),\n",
                "    NULL\n",
                ")"
            ],
            "metadata": {
                "azdata_cell_guid": "376f073f-503a-4cb8-8739-f3d27d5d396a",
                "language": "sql",
                "tags": []
            },
            "outputs": [
                {
                    "output_type": "display_data",
                    "data": {
                        "text/html": "(1 row affected)"
                    },
                    "metadata": {}
                },
                {
                    "output_type": "display_data",
                    "data": {
                        "text/html": "Total execution time: 00:00:00.055"
                    },
                    "metadata": {}
                }
            ],
            "execution_count": 4
        },
        {
            "cell_type": "code",
            "source": [
                "SELECT * FROM [Theme_Park_Test].[Employee];"
            ],
            "metadata": {
                "azdata_cell_guid": "b1fcf71a-b494-4485-9635-144a8abda7c4",
                "language": "sql"
            },
            "outputs": [
                {
                    "output_type": "display_data",
                    "data": {
                        "text/html": "(1 row affected)"
                    },
                    "metadata": {}
                },
                {
                    "output_type": "display_data",
                    "data": {
                        "text/html": "Total execution time: 00:00:00.051"
                    },
                    "metadata": {}
                },
                {
                    "output_type": "execute_result",
                    "metadata": {},
                    "execution_count": 5,
                    "data": {
                        "application/vnd.dataresource+json": {
                            "schema": {
                                "fields": [
                                    {
                                        "name": "Emp_ssn"
                                    },
                                    {
                                        "name": "Emp_name"
                                    },
                                    {
                                        "name": "Emp_address"
                                    },
                                    {
                                        "name": "Emp_phone"
                                    },
                                    {
                                        "name": "Emp_role"
                                    },
                                    {
                                        "name": "Emp_salaried"
                                    },
                                    {
                                        "name": "Emp_email"
                                    },
                                    {
                                        "name": "Emp_payrate"
                                    },
                                    {
                                        "name": "Emp_start_date"
                                    },
                                    {
                                        "name": "Emp_supervisor"
                                    }
                                ]
                            },
                            "data": [
                                {
                                    "0": "123456789",
                                    "1": "John Doe",
                                    "2": "6600 Wesleyan Street, Houston TX",
                                    "3": "7138889999",
                                    "4": "Widget tester",
                                    "5": "1",
                                    "6": "jdoe@acme.com",
                                    "7": "35000.00",
                                    "8": "2022-10-12",
                                    "9": "NULL"
                                }
                            ]
                        },
                        "text/html": [
                            "<table>",
                            "<tr><th>Emp_ssn</th><th>Emp_name</th><th>Emp_address</th><th>Emp_phone</th><th>Emp_role</th><th>Emp_salaried</th><th>Emp_email</th><th>Emp_payrate</th><th>Emp_start_date</th><th>Emp_supervisor</th></tr>",
                            "<tr><td>123456789</td><td>John Doe</td><td>6600 Wesleyan Street, Houston TX</td><td>7138889999</td><td>Widget tester</td><td>1</td><td>jdoe@acme.com</td><td>35000.00</td><td>2022-10-12</td><td>NULL</td></tr>",
                            "</table>"
                        ]
                    }
                }
            ],
            "execution_count": 5
        },
        {
            "cell_type": "markdown",
            "source": [
                "Let's try testing the foreign key constraint on `Emp_supervisor`:"
            ],
            "metadata": {
                "azdata_cell_guid": "02808660-5f1e-4974-ab11-ef17786ebc17"
            },
            "attachments": {}
        },
        {
            "cell_type": "code",
            "source": [
                "UPDATE [Theme_Park_Test].[Employee] SET Emp_supervisor = 123456789 WHERE Emp_ssn = 123456789;"
            ],
            "metadata": {
                "azdata_cell_guid": "6fd7b1c2-2394-4ee0-bba9-69bb2f54fb49",
                "language": "sql"
            },
            "outputs": [
                {
                    "output_type": "display_data",
                    "data": {
                        "text/html": "(1 row affected)"
                    },
                    "metadata": {}
                },
                {
                    "output_type": "display_data",
                    "data": {
                        "text/html": "Total execution time: 00:00:00.052"
                    },
                    "metadata": {}
                }
            ],
            "execution_count": 6
        },
        {
            "cell_type": "code",
            "source": [
                "SELECT * FROM [Theme_Park_Test].[Employee];"
            ],
            "metadata": {
                "azdata_cell_guid": "5fbc1860-c9fc-47f8-b8dd-4c8ab29011f7",
                "language": "sql"
            },
            "outputs": [
                {
                    "output_type": "display_data",
                    "data": {
                        "text/html": "(1 row affected)"
                    },
                    "metadata": {}
                },
                {
                    "output_type": "display_data",
                    "data": {
                        "text/html": "Total execution time: 00:00:00.046"
                    },
                    "metadata": {}
                },
                {
                    "output_type": "execute_result",
                    "metadata": {},
                    "execution_count": 7,
                    "data": {
                        "application/vnd.dataresource+json": {
                            "schema": {
                                "fields": [
                                    {
                                        "name": "Emp_ssn"
                                    },
                                    {
                                        "name": "Emp_name"
                                    },
                                    {
                                        "name": "Emp_address"
                                    },
                                    {
                                        "name": "Emp_phone"
                                    },
                                    {
                                        "name": "Emp_role"
                                    },
                                    {
                                        "name": "Emp_salaried"
                                    },
                                    {
                                        "name": "Emp_email"
                                    },
                                    {
                                        "name": "Emp_payrate"
                                    },
                                    {
                                        "name": "Emp_start_date"
                                    },
                                    {
                                        "name": "Emp_supervisor"
                                    }
                                ]
                            },
                            "data": [
                                {
                                    "0": "123456789",
                                    "1": "John Doe",
                                    "2": "6600 Wesleyan Street, Houston TX",
                                    "3": "7138889999",
                                    "4": "Widget tester",
                                    "5": "1",
                                    "6": "jdoe@acme.com",
                                    "7": "35000.00",
                                    "8": "2022-10-12",
                                    "9": "123456789"
                                }
                            ]
                        },
                        "text/html": [
                            "<table>",
                            "<tr><th>Emp_ssn</th><th>Emp_name</th><th>Emp_address</th><th>Emp_phone</th><th>Emp_role</th><th>Emp_salaried</th><th>Emp_email</th><th>Emp_payrate</th><th>Emp_start_date</th><th>Emp_supervisor</th></tr>",
                            "<tr><td>123456789</td><td>John Doe</td><td>6600 Wesleyan Street, Houston TX</td><td>7138889999</td><td>Widget tester</td><td>1</td><td>jdoe@acme.com</td><td>35000.00</td><td>2022-10-12</td><td>123456789</td></tr>",
                            "</table>"
                        ]
                    }
                }
            ],
            "execution_count": 7
        },
        {
            "cell_type": "code",
            "source": [
                "-- This will fail because 987654321 is not a SSN of an employee, violating referential integrity constraints\n",
                "UPDATE [Theme_Park_Test].[Employee] SET Emp_supervisor = 987654321 WHERE Emp_ssn = 123456789;"
            ],
            "metadata": {
                "azdata_cell_guid": "69a165a6-5349-49cd-bfa7-0d0e1310d2a1",
                "language": "sql"
            },
            "outputs": [
                {
                    "output_type": "error",
                    "evalue": "Msg 547, Level 16, State 0, Line 1\nThe UPDATE statement conflicted with the FOREIGN KEY SAME TABLE constraint \"FK_Emp_Supervisor\". The conflict occurred in database \"cosc3380_test1\", table \"Theme_Park_Test.Employee\", column 'Emp_ssn'.",
                    "ename": "",
                    "traceback": []
                },
                {
                    "output_type": "display_data",
                    "data": {
                        "text/html": "The statement has been terminated."
                    },
                    "metadata": {}
                },
                {
                    "output_type": "display_data",
                    "data": {
                        "text/html": "Total execution time: 00:00:00.050"
                    },
                    "metadata": {}
                }
            ],
            "execution_count": 8
        }
    ]
}