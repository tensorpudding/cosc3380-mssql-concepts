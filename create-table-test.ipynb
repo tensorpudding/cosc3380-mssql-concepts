{
    "metadata": {
        "kernelspec": {
            "name": "SQL",
            "display_name": "SQL",
            "language": "sql"
        },
        "language_info": {
            "name": "sql",
            "version": ""
        }
    },
    "nbformat_minor": 2,
    "nbformat": 4,
    "cells": [
        {
            "cell_type": "markdown",
            "source": [
                "<span style=\"font-size: 11pt; font-family: Arial; color: rgb(0, 0, 0); background-color: transparent; font-variant-numeric: normal; font-variant-east-asian: normal; vertical-align: baseline; white-space: pre-wrap;\">Employees:</span>\n",
                "\n",
                "- <span style=\"font-size: 11pt; background-color: transparent; font-variant-numeric: normal; font-variant-east-asian: normal; vertical-align: baseline; white-space: pre-wrap;\">Name (string, not null)</span>\n",
                "    \n",
                "- <span style=\"font-size: 11pt; background-color: transparent; font-variant-numeric: normal; font-variant-east-asian: normal; vertical-align: baseline; white-space: pre-wrap;\">SSN (int(9), not null, primary key)</span>\n",
                "    \n",
                "- <span style=\"font-size: 11pt; background-color: transparent; font-variant-numeric: normal; font-variant-east-asian: normal; vertical-align: baseline; white-space: pre-wrap;\">Address (string, not null)</span>\n",
                "    \n",
                "- <span style=\"font-size: 11pt; background-color: transparent; font-variant-numeric: normal; font-variant-east-asian: normal; vertical-align: baseline; white-space: pre-wrap;\">Phone_Number (int(10), not null)</span>\n",
                "    \n",
                "- <span style=\"font-size: 11pt; background-color: transparent; font-variant-numeric: normal; font-variant-east-asian: normal; vertical-align: baseline; white-space: pre-wrap;\">Date_Joined_Company (datetime, not null)</span>\n",
                "    \n",
                "- <span style=\"font-size: 11pt; background-color: transparent; font-variant-numeric: normal; font-variant-east-asian: normal; vertical-align: baseline; white-space: pre-wrap;\">Department_ID (numeric)</span>\n",
                "    \n",
                "- <span style=\"font-size: 11pt; background-color: transparent; font-variant-numeric: normal; font-variant-east-asian: normal; vertical-align: baseline; white-space: pre-wrap;\">Role (string)</span>\n",
                "    \n",
                "- <span style=\"font-size: 11pt; background-color: transparent; font-variant-numeric: normal; font-variant-east-asian: normal; vertical-align: baseline; white-space: pre-wrap;\">Supervisor (string)</span>\n",
                "    \n",
                "- <span style=\"font-size: 11pt; background-color: transparent; font-variant-numeric: normal; font-variant-east-asian: normal; vertical-align: baseline; white-space: pre-wrap;\">Salaried (boolean, not null)</span>\n",
                "    \n",
                "- <span style=\"font-size: 11pt; background-color: transparent; font-variant-numeric: normal; font-variant-east-asian: normal; vertical-align: baseline; white-space: pre-wrap;\">Pay_Rate (float(6,2), not null)</span>\n",
                "    \n",
                "- <span style=\"font-size: 11pt; background-color: transparent; font-variant-numeric: normal; font-variant-east-asian: normal; vertical-align: baseline; white-space: pre-wrap;\">Vacation_Days (float)</span>"
            ],
            "metadata": {
                "azdata_cell_guid": "ce64c5c5-7ab9-4374-8d46-5aeb1f516c6c"
            },
            "attachments": {}
        },
        {
            "cell_type": "code",
            "source": [
                "create table [Theme_Park].[Employee]\n",
                "(\n",
                "    fname varchar(20) not null,\n",
                "    lname varchar(20) not null,\n",
                "    ssn numeric(9) not null,\n",
                "    gender char(1) not null,\n",
                "    constraint CK_Employee_Gender check (gender in ('M', 'F')),\n",
                "    constraint PK_Employee primary key (ssn),\n",
                "    address varchar(50) not null,\n",
                "    phone numeric(10) not null,\n",
                "    date_joined date not null,\n",
                "    dept_id int not null,\n",
                "    role varchar(20),\n",
                "    supervisor_ssn numeric(9),\n",
                "    constraint FK_Employee_Supervisor foreign key (supervisor_ssn) references [Theme_Park].[Employee] (ssn),\n",
                "    salaried bit not null,\n",
                "    payrate money,\n",
                "    vacation_days decimal(3,2),\n",
                ")\n",
                "go"
            ],
            "metadata": {
                "azdata_cell_guid": "239b75df-b4f5-432e-b482-91792f2c5236",
                "language": "sql",
                "tags": []
            },
            "outputs": [
                {
                    "output_type": "display_data",
                    "data": {
                        "text/html": "Commands completed successfully."
                    },
                    "metadata": {}
                },
                {
                    "output_type": "display_data",
                    "data": {
                        "text/html": "Total execution time: 00:00:03.113"
                    },
                    "metadata": {}
                }
            ],
            "execution_count": 2
        },
        {
            "cell_type": "markdown",
            "source": [
                "This is testing code for adding a foreign key constraint to an existing table"
            ],
            "metadata": {
                "azdata_cell_guid": "e3b39fb5-4378-46ac-a22b-30056b2e6ba9"
            },
            "attachments": {}
        },
        {
            "cell_type": "code",
            "source": [
                "alter table [Theme_Park].[Employee]\n",
                "add constraint FK_Employee_Department\n",
                "foreign key (dept_id) references [Theme_Park].[Department] (dept_id)\n",
                "on delete\n",
                "GO"
            ],
            "metadata": {
                "azdata_cell_guid": "ea5e6449-fb55-40b8-89ea-306cfc879e63",
                "language": "sql"
            },
            "outputs": [],
            "execution_count": null
        }
    ]
}